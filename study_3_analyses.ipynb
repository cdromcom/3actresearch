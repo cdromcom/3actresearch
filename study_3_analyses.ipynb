{
  "nbformat": 4,
  "nbformat_minor": 0,
  "metadata": {
    "colab": {
      "name": "study-3-analyses.ipynb",
      "provenance": [],
      "collapsed_sections": [],
      "authorship_tag": "ABX9TyPU8xxLV25UZs59Z55WONWV",
      "include_colab_link": true
    },
    "kernelspec": {
      "name": "ir",
      "display_name": "R"
    }
  },
  "cells": [
    {
      "cell_type": "markdown",
      "metadata": {
        "id": "view-in-github",
        "colab_type": "text"
      },
      "source": [
        "<a href=\"https://colab.research.google.com/github/cdromcom/3actresearch/blob/master/study_3_analyses.ipynb\" target=\"_parent\"><img src=\"https://colab.research.google.com/assets/colab-badge.svg\" alt=\"Open In Colab\"/></a>"
      ]
    },
    {
      "cell_type": "markdown",
      "metadata": {
        "id": "Ws74v-cM0nSi",
        "colab_type": "text"
      },
      "source": [
        "# Install and require packages\n"
      ]
    },
    {
      "cell_type": "markdown",
      "metadata": {
        "id": "-G1nNCSv0_fK",
        "colab_type": "text"
      },
      "source": [
        "Install packages to clean, explore, and analyze data."
      ]
    },
    {
      "cell_type": "code",
      "metadata": {
        "id": "04JNab_jgG8_",
        "colab_type": "code",
        "colab": {
          "base_uri": "https://localhost:8080/",
          "height": 277
        },
        "outputId": "30278ef4-628a-48b1-e02d-fd0f35b4c106"
      },
      "source": [
        "install.packages(\"readr\")\n",
        "install.packages(\"readxl\")\n",
        "install.packages(\"tidyverse\")\n",
        "install.packages(\"ggpubr\")"
      ],
      "execution_count": 11,
      "outputs": [
        {
          "output_type": "stream",
          "text": [
            "Installing package into ‘/usr/local/lib/R/site-library’\n",
            "(as ‘lib’ is unspecified)\n",
            "\n",
            "Installing package into ‘/usr/local/lib/R/site-library’\n",
            "(as ‘lib’ is unspecified)\n",
            "\n",
            "Installing package into ‘/usr/local/lib/R/site-library’\n",
            "(as ‘lib’ is unspecified)\n",
            "\n",
            "Installing package into ‘/usr/local/lib/R/site-library’\n",
            "(as ‘lib’ is unspecified)\n",
            "\n",
            "also installing the dependencies ‘ggrepel’, ‘ggsci’, ‘cowplot’, ‘ggsignif’, ‘gridExtra’, ‘polynom’\n",
            "\n",
            "\n"
          ],
          "name": "stderr"
        }
      ]
    },
    {
      "cell_type": "code",
      "metadata": {
        "id": "f415qqmm8tDx",
        "colab_type": "code",
        "colab": {
          "base_uri": "https://localhost:8080/",
          "height": 141
        },
        "outputId": "876fd247-9563-4c49-80de-574d350dbc0c"
      },
      "source": [
        "install.packages(\"rstatix\")"
      ],
      "execution_count": 3,
      "outputs": [
        {
          "output_type": "stream",
          "text": [
            "Installing package into ‘/usr/local/lib/R/site-library’\n",
            "(as ‘lib’ is unspecified)\n",
            "\n",
            "also installing the dependencies ‘zip’, ‘SparseM’, ‘MatrixModels’, ‘sp’, ‘data.table’, ‘openxlsx’, ‘minqa’, ‘nloptr’, ‘RcppEigen’, ‘carData’, ‘abind’, ‘pbkrtest’, ‘quantreg’, ‘maptools’, ‘rio’, ‘lme4’, ‘corrplot’, ‘car’\n",
            "\n",
            "\n"
          ],
          "name": "stderr"
        }
      ]
    },
    {
      "cell_type": "code",
      "metadata": {
        "id": "kRieFDWUks-E",
        "colab_type": "code",
        "colab": {
          "base_uri": "https://localhost:8080/",
          "height": 295
        },
        "outputId": "a01ceb08-d179-47ba-c787-77d687d8b31d"
      },
      "source": [
        "library(rstatix)\n",
        "library(readr)\n",
        "library(readxl)\n",
        "\n",
        "library(tidyverse)\n",
        "library(ggpubr)"
      ],
      "execution_count": 12,
      "outputs": [
        {
          "output_type": "stream",
          "text": [
            "Loading required package: magrittr\n",
            "\n",
            "\n",
            "Attaching package: ‘magrittr’\n",
            "\n",
            "\n",
            "The following object is masked from ‘package:purrr’:\n",
            "\n",
            "    set_names\n",
            "\n",
            "\n",
            "The following object is masked from ‘package:tidyr’:\n",
            "\n",
            "    extract\n",
            "\n",
            "\n"
          ],
          "name": "stderr"
        }
      ]
    },
    {
      "cell_type": "markdown",
      "metadata": {
        "id": "W3j3iDha0tOj",
        "colab_type": "text"
      },
      "source": [
        "# Clean and summarize data\n"
      ]
    },
    {
      "cell_type": "markdown",
      "metadata": {
        "id": "CcL0Gtyk1F39",
        "colab_type": "text"
      },
      "source": [
        "Using an Excel (.xlsx) file."
      ]
    },
    {
      "cell_type": "code",
      "metadata": {
        "id": "bnGPQt1uk6g6",
        "colab_type": "code",
        "colab": {}
      },
      "source": [
        "s3ratings <- read_excel(\"/content/s3ratings.xlsx\")"
      ],
      "execution_count": 0,
      "outputs": []
    },
    {
      "cell_type": "code",
      "metadata": {
        "id": "s2AeXCw4o5nC",
        "colab_type": "code",
        "outputId": "366b1df3-770e-4451-fe4c-c5d71aeab9db",
        "colab": {
          "base_uri": "https://localhost:8080/",
          "height": 156
        }
      },
      "source": [
        "studythreeNew <- s3ratings %>%\n",
        "  gather(key = \"soundType\", value = \"rating\", engine, whiteNoise, hum, horn, whistle, siren) %>%\n",
        "  convert_as_factor(id, soundType)\n",
        "\n",
        "summary(studythreeNew)"
      ],
      "execution_count": 20,
      "outputs": [
        {
          "output_type": "display_data",
          "data": {
            "text/plain": [
              "       id           soundType      rating     \n",
              " 1      :  6   engine    :24   Min.   :0.000  \n",
              " 2      :  6   horn      :24   1st Qu.:0.000  \n",
              " 3      :  6   hum       :24   Median :1.000  \n",
              " 4      :  6   siren     :24   Mean   :1.194  \n",
              " 5      :  6   whistle   :24   3rd Qu.:2.000  \n",
              " 6      :  6   whiteNoise:24   Max.   :4.000  \n",
              " (Other):108                                  "
            ]
          },
          "metadata": {
            "tags": []
          }
        }
      ]
    },
    {
      "cell_type": "code",
      "metadata": {
        "id": "I1jW9BbapV38",
        "colab_type": "code",
        "outputId": "f03bce32-69bb-4b25-af96-12ca834a55af",
        "colab": {
          "base_uri": "https://localhost:8080/",
          "height": 202
        }
      },
      "source": [
        "studythreeNew %>%\n",
        "  group_by(soundType) %>%\n",
        "  get_summary_stats(rating, type = \"common\")"
      ],
      "execution_count": 21,
      "outputs": [
        {
          "output_type": "display_data",
          "data": {
            "text/plain": [
              "  soundType  variable n  min max median iqr  mean  sd    se    ci   \n",
              "1 engine     rating   24 0   3   2      1.25 1.958 0.999 0.204 0.422\n",
              "2 horn       rating   24 0   4   0      0.00 0.583 1.213 0.248 0.512\n",
              "3 hum        rating   24 0   4   1      1.00 1.500 1.103 0.225 0.466\n",
              "4 siren      rating   24 0   2   0      1.00 0.583 0.776 0.158 0.327\n",
              "5 whistle    rating   24 0   4   1      1.25 0.958 1.083 0.221 0.457\n",
              "6 whiteNoise rating   24 0   4   2      1.00 1.583 1.100 0.225 0.465"
            ],
            "text/latex": "A tibble: 6 × 11\n\\begin{tabular}{lllllllllll}\n soundType & variable & n & min & max & median & iqr & mean & sd & se & ci\\\\\n <fct> & <chr> & <dbl> & <dbl> & <dbl> & <dbl> & <dbl> & <dbl> & <dbl> & <dbl> & <dbl>\\\\\n\\hline\n\t engine     & rating & 24 & 0 & 3 & 2 & 1.25 & 1.958 & 0.999 & 0.204 & 0.422\\\\\n\t horn       & rating & 24 & 0 & 4 & 0 & 0.00 & 0.583 & 1.213 & 0.248 & 0.512\\\\\n\t hum        & rating & 24 & 0 & 4 & 1 & 1.00 & 1.500 & 1.103 & 0.225 & 0.466\\\\\n\t siren      & rating & 24 & 0 & 2 & 0 & 1.00 & 0.583 & 0.776 & 0.158 & 0.327\\\\\n\t whistle    & rating & 24 & 0 & 4 & 1 & 1.25 & 0.958 & 1.083 & 0.221 & 0.457\\\\\n\t whiteNoise & rating & 24 & 0 & 4 & 2 & 1.00 & 1.583 & 1.100 & 0.225 & 0.465\\\\\n\\end{tabular}\n",
            "text/markdown": "\nA tibble: 6 × 11\n\n| soundType &lt;fct&gt; | variable &lt;chr&gt; | n &lt;dbl&gt; | min &lt;dbl&gt; | max &lt;dbl&gt; | median &lt;dbl&gt; | iqr &lt;dbl&gt; | mean &lt;dbl&gt; | sd &lt;dbl&gt; | se &lt;dbl&gt; | ci &lt;dbl&gt; |\n|---|---|---|---|---|---|---|---|---|---|---|\n| engine     | rating | 24 | 0 | 3 | 2 | 1.25 | 1.958 | 0.999 | 0.204 | 0.422 |\n| horn       | rating | 24 | 0 | 4 | 0 | 0.00 | 0.583 | 1.213 | 0.248 | 0.512 |\n| hum        | rating | 24 | 0 | 4 | 1 | 1.00 | 1.500 | 1.103 | 0.225 | 0.466 |\n| siren      | rating | 24 | 0 | 2 | 0 | 1.00 | 0.583 | 0.776 | 0.158 | 0.327 |\n| whistle    | rating | 24 | 0 | 4 | 1 | 1.25 | 0.958 | 1.083 | 0.221 | 0.457 |\n| whiteNoise | rating | 24 | 0 | 4 | 2 | 1.00 | 1.583 | 1.100 | 0.225 | 0.465 |\n\n",
            "text/html": [
              "<table>\n",
              "<caption>A tibble: 6 × 11</caption>\n",
              "<thead>\n",
              "\t<tr><th scope=col>soundType</th><th scope=col>variable</th><th scope=col>n</th><th scope=col>min</th><th scope=col>max</th><th scope=col>median</th><th scope=col>iqr</th><th scope=col>mean</th><th scope=col>sd</th><th scope=col>se</th><th scope=col>ci</th></tr>\n",
              "\t<tr><th scope=col>&lt;fct&gt;</th><th scope=col>&lt;chr&gt;</th><th scope=col>&lt;dbl&gt;</th><th scope=col>&lt;dbl&gt;</th><th scope=col>&lt;dbl&gt;</th><th scope=col>&lt;dbl&gt;</th><th scope=col>&lt;dbl&gt;</th><th scope=col>&lt;dbl&gt;</th><th scope=col>&lt;dbl&gt;</th><th scope=col>&lt;dbl&gt;</th><th scope=col>&lt;dbl&gt;</th></tr>\n",
              "</thead>\n",
              "<tbody>\n",
              "\t<tr><td>engine    </td><td>rating</td><td>24</td><td>0</td><td>3</td><td>2</td><td>1.25</td><td>1.958</td><td>0.999</td><td>0.204</td><td>0.422</td></tr>\n",
              "\t<tr><td>horn      </td><td>rating</td><td>24</td><td>0</td><td>4</td><td>0</td><td>0.00</td><td>0.583</td><td>1.213</td><td>0.248</td><td>0.512</td></tr>\n",
              "\t<tr><td>hum       </td><td>rating</td><td>24</td><td>0</td><td>4</td><td>1</td><td>1.00</td><td>1.500</td><td>1.103</td><td>0.225</td><td>0.466</td></tr>\n",
              "\t<tr><td>siren     </td><td>rating</td><td>24</td><td>0</td><td>2</td><td>0</td><td>1.00</td><td>0.583</td><td>0.776</td><td>0.158</td><td>0.327</td></tr>\n",
              "\t<tr><td>whistle   </td><td>rating</td><td>24</td><td>0</td><td>4</td><td>1</td><td>1.25</td><td>0.958</td><td>1.083</td><td>0.221</td><td>0.457</td></tr>\n",
              "\t<tr><td>whiteNoise</td><td>rating</td><td>24</td><td>0</td><td>4</td><td>2</td><td>1.00</td><td>1.583</td><td>1.100</td><td>0.225</td><td>0.465</td></tr>\n",
              "</tbody>\n",
              "</table>\n"
            ]
          },
          "metadata": {
            "tags": []
          }
        }
      ]
    },
    {
      "cell_type": "code",
      "metadata": {
        "id": "lWBWOMyppfVI",
        "colab_type": "code",
        "outputId": "fa59dcb9-e974-4309-c18a-97b20531036b",
        "colab": {
          "base_uri": "https://localhost:8080/",
          "height": 437
        }
      },
      "source": [
        "ggviolin(studythreeNew, x = \"soundType\", y = \"rating\", add = \"jitter\")+\n",
        "  coord_flip()"
      ],
      "execution_count": 31,
      "outputs": [
        {
          "output_type": "display_data",
          "data": {
            "image/png": "[encoded data removed]",
            "text/plain": [
              "plot without title"
            ]
          },
          "metadata": {
            "tags": [],
            "image/png": {
              "width": 420,
              "height": 420
            },
            "text/plain": {
              "width": 420,
              "height": 420
            }
          }
        }
      ]
    },
    {
      "cell_type": "code",
      "metadata": {
        "id": "mSuMbhxUpnwo",
        "colab_type": "code",
        "outputId": "3a78b539-b3c7-4c65-fdd8-2d7daafc6784",
        "colab": {
          "base_uri": "https://localhost:8080/",
          "height": 99
        }
      },
      "source": [
        "shapiro_test(studythreeNew, rating)"
      ],
      "execution_count": 32,
      "outputs": [
        {
          "output_type": "display_data",
          "data": {
            "text/plain": [
              "  variable statistic p           \n",
              "1 rating   0.8540663 1.244779e-10"
            ],
            "text/latex": "A tibble: 1 × 3\n\\begin{tabular}{lll}\n variable & statistic & p\\\\\n <chr> & <dbl> & <dbl>\\\\\n\\hline\n\t rating & 0.8540663 & 1.244779e-10\\\\\n\\end{tabular}\n",
            "text/markdown": "\nA tibble: 1 × 3\n\n| variable &lt;chr&gt; | statistic &lt;dbl&gt; | p &lt;dbl&gt; |\n|---|---|---|\n| rating | 0.8540663 | 1.244779e-10 |\n\n",
            "text/html": [
              "<table>\n",
              "<caption>A tibble: 1 × 3</caption>\n",
              "<thead>\n",
              "\t<tr><th scope=col>variable</th><th scope=col>statistic</th><th scope=col>p</th></tr>\n",
              "\t<tr><th scope=col>&lt;chr&gt;</th><th scope=col>&lt;dbl&gt;</th><th scope=col>&lt;dbl&gt;</th></tr>\n",
              "</thead>\n",
              "<tbody>\n",
              "\t<tr><td>rating</td><td>0.8540663</td><td>1.244779e-10</td></tr>\n",
              "</tbody>\n",
              "</table>\n"
            ]
          },
          "metadata": {
            "tags": []
          }
        }
      ]
    },
    {
      "cell_type": "markdown",
      "metadata": {
        "id": "W2FUqnRN1R6-",
        "colab_type": "text"
      },
      "source": [
        "Shapiro test is statistically significant. Normality assumption is violated."
      ]
    },
    {
      "cell_type": "markdown",
      "metadata": {
        "id": "p6iKEYW10hp3",
        "colab_type": "text"
      },
      "source": [
        "# Friedman test and post-hoc analyses"
      ]
    },
    {
      "cell_type": "markdown",
      "metadata": {
        "id": "A-orINwY1Yp7",
        "colab_type": "text"
      },
      "source": [
        "For a non-parametric version of an RM ANOVA, the Friedman test is appropriate."
      ]
    },
    {
      "cell_type": "code",
      "metadata": {
        "id": "4bfBaaYmpqEM",
        "colab_type": "code",
        "outputId": "8f955b11-3467-4ac6-eed9-e42cae7e2dcb",
        "colab": {
          "base_uri": "https://localhost:8080/",
          "height": 99
        }
      },
      "source": [
        "res.fried <- studythreeNew %>% friedman_test(rating ~ soundType |id)\n",
        "\n",
        "res.fried"
      ],
      "execution_count": 34,
      "outputs": [
        {
          "output_type": "display_data",
          "data": {
            "text/plain": [
              "  .y.    n  statistic df p            method       \n",
              "1 rating 24 74.12972  5  1.413179e-14 Friedman test"
            ],
            "text/latex": "A tibble: 1 × 6\n\\begin{tabular}{r|llllll}\n  & .y. & n & statistic & df & p & method\\\\\n  & <chr> & <int> & <dbl> & <dbl> & <dbl> & <chr>\\\\\n\\hline\n\t1 & rating & 24 & 74.12972 & 5 & 1.413179e-14 & Friedman test\\\\\n\\end{tabular}\n",
            "text/markdown": "\nA tibble: 1 × 6\n\n| <!--/--> | .y. &lt;chr&gt; | n &lt;int&gt; | statistic &lt;dbl&gt; | df &lt;dbl&gt; | p &lt;dbl&gt; | method &lt;chr&gt; |\n|---|---|---|---|---|---|---|\n| 1 | rating | 24 | 74.12972 | 5 | 1.413179e-14 | Friedman test |\n\n",
            "text/html": [
              "<table>\n",
              "<caption>A tibble: 1 × 6</caption>\n",
              "<thead>\n",
              "\t<tr><th></th><th scope=col>.y.</th><th scope=col>n</th><th scope=col>statistic</th><th scope=col>df</th><th scope=col>p</th><th scope=col>method</th></tr>\n",
              "\t<tr><th></th><th scope=col>&lt;chr&gt;</th><th scope=col>&lt;int&gt;</th><th scope=col>&lt;dbl&gt;</th><th scope=col>&lt;dbl&gt;</th><th scope=col>&lt;dbl&gt;</th><th scope=col>&lt;chr&gt;</th></tr>\n",
              "</thead>\n",
              "<tbody>\n",
              "\t<tr><th scope=row>1</th><td>rating</td><td>24</td><td>74.12972</td><td>5</td><td>1.413179e-14</td><td>Friedman test</td></tr>\n",
              "</tbody>\n",
              "</table>\n"
            ]
          },
          "metadata": {
            "tags": []
          }
        }
      ]
    },
    {
      "cell_type": "markdown",
      "metadata": {
        "id": "VGEGsrZ_1eG6",
        "colab_type": "text"
      },
      "source": [
        "Calculate the effect size (moderate-to-large here)."
      ]
    },
    {
      "cell_type": "code",
      "metadata": {
        "id": "CnP2r7w4py80",
        "colab_type": "code",
        "outputId": "e82846df-a622-4891-f03a-f5750b4e5e65",
        "colab": {
          "base_uri": "https://localhost:8080/",
          "height": 99
        }
      },
      "source": [
        "studythreeNew %>% friedman_effsize(rating ~ soundType |id, ci = TRUE, conf.level = 0.99, ci.type = \"perc\", nboot = 1000)"
      ],
      "execution_count": 36,
      "outputs": [
        {
          "output_type": "display_data",
          "data": {
            "text/plain": [
              "  .y.    n  effsize   conf.low conf.high method    magnitude\n",
              "1 rating 24 0.6177477 0.43     0.8       Kendall W large    "
            ],
            "text/latex": "A tibble: 1 × 7\n\\begin{tabular}{r|lllllll}\n  & .y. & n & effsize & conf.low & conf.high & method & magnitude\\\\\n  & <chr> & <int> & <dbl> & <dbl> & <dbl> & <chr> & <ord>\\\\\n\\hline\n\t1 & rating & 24 & 0.6177477 & 0.43 & 0.8 & Kendall W & large\\\\\n\\end{tabular}\n",
            "text/markdown": "\nA tibble: 1 × 7\n\n| <!--/--> | .y. &lt;chr&gt; | n &lt;int&gt; | effsize &lt;dbl&gt; | conf.low &lt;dbl&gt; | conf.high &lt;dbl&gt; | method &lt;chr&gt; | magnitude &lt;ord&gt; |\n|---|---|---|---|---|---|---|---|\n| 1 | rating | 24 | 0.6177477 | 0.43 | 0.8 | Kendall W | large |\n\n",
            "text/html": [
              "<table>\n",
              "<caption>A tibble: 1 × 7</caption>\n",
              "<thead>\n",
              "\t<tr><th></th><th scope=col>.y.</th><th scope=col>n</th><th scope=col>effsize</th><th scope=col>conf.low</th><th scope=col>conf.high</th><th scope=col>method</th><th scope=col>magnitude</th></tr>\n",
              "\t<tr><th></th><th scope=col>&lt;chr&gt;</th><th scope=col>&lt;int&gt;</th><th scope=col>&lt;dbl&gt;</th><th scope=col>&lt;dbl&gt;</th><th scope=col>&lt;dbl&gt;</th><th scope=col>&lt;chr&gt;</th><th scope=col>&lt;ord&gt;</th></tr>\n",
              "</thead>\n",
              "<tbody>\n",
              "\t<tr><th scope=row>1</th><td>rating</td><td>24</td><td>0.6177477</td><td>0.43</td><td>0.8</td><td>Kendall W</td><td>large</td></tr>\n",
              "</tbody>\n",
              "</table>\n"
            ]
          },
          "metadata": {
            "tags": []
          }
        }
      ]
    },
    {
      "cell_type": "markdown",
      "metadata": {
        "id": "mZZOF6Vv1rjV",
        "colab_type": "text"
      },
      "source": [
        "Conduct post-hoc analyses using the Wilcoxon test and adjust p-values using the Bonferroni procedure.\n"
      ]
    },
    {
      "cell_type": "code",
      "metadata": {
        "id": "CbgJ7we9qfwI",
        "colab_type": "code",
        "outputId": "17eafd7f-1bfc-4658-9854-dd83edd33c63",
        "colab": {
          "base_uri": "https://localhost:8080/",
          "height": 388
        }
      },
      "source": [
        "pwc <- studythreeNew %>%\n",
        "  wilcox_test(rating ~ soundType, paired = TRUE, p.adjust.method = \"bonferroni\")\n",
        "\n",
        "pwc"
      ],
      "execution_count": 37,
      "outputs": [
        {
          "output_type": "display_data",
          "data": {
            "text/plain": [
              "   .y.    group1  group2     n1 n2 statistic p        p.adj    p.adj.signif\n",
              "1  rating engine  horn       24 24 186.5     1.84e-04 0.003000 **          \n",
              "2  rating engine  hum        24 24 104.0     5.00e-03 0.075000 ns          \n",
              "3  rating engine  siren      24 24 231.0     3.70e-05 0.000555 ***         \n",
              "4  rating engine  whistle    24 24 202.5     1.53e-04 0.002000 **          \n",
              "5  rating engine  whiteNoise 24 24  77.0     1.40e-02 0.210000 ns          \n",
              "6  rating horn    hum        24 24   0.0     8.69e-05 0.001000 **          \n",
              "7  rating horn    siren      24 24  22.5     1.00e+00 1.000000 ns          \n",
              "8  rating horn    whistle    24 24   5.0     1.50e-02 0.220000 ns          \n",
              "9  rating horn    whiteNoise 24 24   0.0     3.27e-04 0.005000 **          \n",
              "10 rating hum     siren      24 24 210.0     1.87e-05 0.000280 ***         \n",
              "11 rating hum     whistle    24 24  91.0     3.63e-04 0.005000 **          \n",
              "12 rating hum     whiteNoise 24 24   7.0     4.84e-01 1.000000 ns          \n",
              "13 rating siren   whistle    24 24   0.0     8.00e-03 0.125000 ns          \n",
              "14 rating siren   whiteNoise 24 24   0.0     6.33e-05 0.000949 ***         \n",
              "15 rating whistle whiteNoise 24 24   0.0     1.23e-04 0.002000 **          "
            ],
            "text/latex": "A tibble: 15 × 9\n\\begin{tabular}{r|lllllllll}\n  & .y. & group1 & group2 & n1 & n2 & statistic & p & p.adj & p.adj.signif\\\\\n  & <chr> & <chr> & <chr> & <int> & <int> & <dbl> & <dbl> & <dbl> & <chr>\\\\\n\\hline\n\t1 & rating & engine  & horn       & 24 & 24 & 186.5 & 1.84e-04 & 0.003000 & ** \\\\\n\t2 & rating & engine  & hum        & 24 & 24 & 104.0 & 5.00e-03 & 0.075000 & ns \\\\\n\t3 & rating & engine  & siren      & 24 & 24 & 231.0 & 3.70e-05 & 0.000555 & ***\\\\\n\t4 & rating & engine  & whistle    & 24 & 24 & 202.5 & 1.53e-04 & 0.002000 & ** \\\\\n\t5 & rating & engine  & whiteNoise & 24 & 24 &  77.0 & 1.40e-02 & 0.210000 & ns \\\\\n\t6 & rating & horn    & hum        & 24 & 24 &   0.0 & 8.69e-05 & 0.001000 & ** \\\\\n\t7 & rating & horn    & siren      & 24 & 24 &  22.5 & 1.00e+00 & 1.000000 & ns \\\\\n\t8 & rating & horn    & whistle    & 24 & 24 &   5.0 & 1.50e-02 & 0.220000 & ns \\\\\n\t9 & rating & horn    & whiteNoise & 24 & 24 &   0.0 & 3.27e-04 & 0.005000 & ** \\\\\n\t10 & rating & hum     & siren      & 24 & 24 & 210.0 & 1.87e-05 & 0.000280 & ***\\\\\n\t11 & rating & hum     & whistle    & 24 & 24 &  91.0 & 3.63e-04 & 0.005000 & ** \\\\\n\t12 & rating & hum     & whiteNoise & 24 & 24 &   7.0 & 4.84e-01 & 1.000000 & ns \\\\\n\t13 & rating & siren   & whistle    & 24 & 24 &   0.0 & 8.00e-03 & 0.125000 & ns \\\\\n\t14 & rating & siren   & whiteNoise & 24 & 24 &   0.0 & 6.33e-05 & 0.000949 & ***\\\\\n\t15 & rating & whistle & whiteNoise & 24 & 24 &   0.0 & 1.23e-04 & 0.002000 & ** \\\\\n\\end{tabular}\n",
            "text/markdown": "\nA tibble: 15 × 9\n\n| <!--/--> | .y. &lt;chr&gt; | group1 &lt;chr&gt; | group2 &lt;chr&gt; | n1 &lt;int&gt; | n2 &lt;int&gt; | statistic &lt;dbl&gt; | p &lt;dbl&gt; | p.adj &lt;dbl&gt; | p.adj.signif &lt;chr&gt; |\n|---|---|---|---|---|---|---|---|---|---|\n| 1 | rating | engine  | horn       | 24 | 24 | 186.5 | 1.84e-04 | 0.003000 | **  |\n| 2 | rating | engine  | hum        | 24 | 24 | 104.0 | 5.00e-03 | 0.075000 | ns  |\n| 3 | rating | engine  | siren      | 24 | 24 | 231.0 | 3.70e-05 | 0.000555 | *** |\n| 4 | rating | engine  | whistle    | 24 | 24 | 202.5 | 1.53e-04 | 0.002000 | **  |\n| 5 | rating | engine  | whiteNoise | 24 | 24 |  77.0 | 1.40e-02 | 0.210000 | ns  |\n| 6 | rating | horn    | hum        | 24 | 24 |   0.0 | 8.69e-05 | 0.001000 | **  |\n| 7 | rating | horn    | siren      | 24 | 24 |  22.5 | 1.00e+00 | 1.000000 | ns  |\n| 8 | rating | horn    | whistle    | 24 | 24 |   5.0 | 1.50e-02 | 0.220000 | ns  |\n| 9 | rating | horn    | whiteNoise | 24 | 24 |   0.0 | 3.27e-04 | 0.005000 | **  |\n| 10 | rating | hum     | siren      | 24 | 24 | 210.0 | 1.87e-05 | 0.000280 | *** |\n| 11 | rating | hum     | whistle    | 24 | 24 |  91.0 | 3.63e-04 | 0.005000 | **  |\n| 12 | rating | hum     | whiteNoise | 24 | 24 |   7.0 | 4.84e-01 | 1.000000 | ns  |\n| 13 | rating | siren   | whistle    | 24 | 24 |   0.0 | 8.00e-03 | 0.125000 | ns  |\n| 14 | rating | siren   | whiteNoise | 24 | 24 |   0.0 | 6.33e-05 | 0.000949 | *** |\n| 15 | rating | whistle | whiteNoise | 24 | 24 |   0.0 | 1.23e-04 | 0.002000 | **  |\n\n",
            "text/html": [
              "<table>\n",
              "<caption>A tibble: 15 × 9</caption>\n",
              "<thead>\n",
              "\t<tr><th></th><th scope=col>.y.</th><th scope=col>group1</th><th scope=col>group2</th><th scope=col>n1</th><th scope=col>n2</th><th scope=col>statistic</th><th scope=col>p</th><th scope=col>p.adj</th><th scope=col>p.adj.signif</th></tr>\n",
              "\t<tr><th></th><th scope=col>&lt;chr&gt;</th><th scope=col>&lt;chr&gt;</th><th scope=col>&lt;chr&gt;</th><th scope=col>&lt;int&gt;</th><th scope=col>&lt;int&gt;</th><th scope=col>&lt;dbl&gt;</th><th scope=col>&lt;dbl&gt;</th><th scope=col>&lt;dbl&gt;</th><th scope=col>&lt;chr&gt;</th></tr>\n",
              "</thead>\n",
              "<tbody>\n",
              "\t<tr><th scope=row>1</th><td>rating</td><td>engine </td><td>horn      </td><td>24</td><td>24</td><td>186.5</td><td>1.84e-04</td><td>0.003000</td><td>** </td></tr>\n",
              "\t<tr><th scope=row>2</th><td>rating</td><td>engine </td><td>hum       </td><td>24</td><td>24</td><td>104.0</td><td>5.00e-03</td><td>0.075000</td><td>ns </td></tr>\n",
              "\t<tr><th scope=row>3</th><td>rating</td><td>engine </td><td>siren     </td><td>24</td><td>24</td><td>231.0</td><td>3.70e-05</td><td>0.000555</td><td>***</td></tr>\n",
              "\t<tr><th scope=row>4</th><td>rating</td><td>engine </td><td>whistle   </td><td>24</td><td>24</td><td>202.5</td><td>1.53e-04</td><td>0.002000</td><td>** </td></tr>\n",
              "\t<tr><th scope=row>5</th><td>rating</td><td>engine </td><td>whiteNoise</td><td>24</td><td>24</td><td> 77.0</td><td>1.40e-02</td><td>0.210000</td><td>ns </td></tr>\n",
              "\t<tr><th scope=row>6</th><td>rating</td><td>horn   </td><td>hum       </td><td>24</td><td>24</td><td>  0.0</td><td>8.69e-05</td><td>0.001000</td><td>** </td></tr>\n",
              "\t<tr><th scope=row>7</th><td>rating</td><td>horn   </td><td>siren     </td><td>24</td><td>24</td><td> 22.5</td><td>1.00e+00</td><td>1.000000</td><td>ns </td></tr>\n",
              "\t<tr><th scope=row>8</th><td>rating</td><td>horn   </td><td>whistle   </td><td>24</td><td>24</td><td>  5.0</td><td>1.50e-02</td><td>0.220000</td><td>ns </td></tr>\n",
              "\t<tr><th scope=row>9</th><td>rating</td><td>horn   </td><td>whiteNoise</td><td>24</td><td>24</td><td>  0.0</td><td>3.27e-04</td><td>0.005000</td><td>** </td></tr>\n",
              "\t<tr><th scope=row>10</th><td>rating</td><td>hum    </td><td>siren     </td><td>24</td><td>24</td><td>210.0</td><td>1.87e-05</td><td>0.000280</td><td>***</td></tr>\n",
              "\t<tr><th scope=row>11</th><td>rating</td><td>hum    </td><td>whistle   </td><td>24</td><td>24</td><td> 91.0</td><td>3.63e-04</td><td>0.005000</td><td>** </td></tr>\n",
              "\t<tr><th scope=row>12</th><td>rating</td><td>hum    </td><td>whiteNoise</td><td>24</td><td>24</td><td>  7.0</td><td>4.84e-01</td><td>1.000000</td><td>ns </td></tr>\n",
              "\t<tr><th scope=row>13</th><td>rating</td><td>siren  </td><td>whistle   </td><td>24</td><td>24</td><td>  0.0</td><td>8.00e-03</td><td>0.125000</td><td>ns </td></tr>\n",
              "\t<tr><th scope=row>14</th><td>rating</td><td>siren  </td><td>whiteNoise</td><td>24</td><td>24</td><td>  0.0</td><td>6.33e-05</td><td>0.000949</td><td>***</td></tr>\n",
              "\t<tr><th scope=row>15</th><td>rating</td><td>whistle</td><td>whiteNoise</td><td>24</td><td>24</td><td>  0.0</td><td>1.23e-04</td><td>0.002000</td><td>** </td></tr>\n",
              "</tbody>\n",
              "</table>\n"
            ]
          },
          "metadata": {
            "tags": []
          }
        }
      ]
    },
    {
      "cell_type": "code",
      "metadata": {
        "id": "aK0WhOqtqlT9",
        "colab_type": "code",
        "outputId": "41db4794-7ff9-47fa-f1cd-90199e66e451",
        "colab": {
          "base_uri": "https://localhost:8080/",
          "height": 437
        }
      },
      "source": [
        "pwc <- pwc %>% add_xy_position(x = \"time\")\n",
        "ggviolin(studythreeNew, x = \"soundType\", y = \"rating\", add = \"point\") +\n",
        "  stat_pvalue_manual(pwc, hide.ns = TRUE) +\n",
        "  coord_flip()+\n",
        "  labs(\n",
        "    subtitle = get_test_label(res.fried, detailed = TRUE),\n",
        "    caption = get_pwc_label(pwc)\n",
        "  )"
      ],
      "execution_count": 42,
      "outputs": [
        {
          "output_type": "display_data",
          "data": {
            "image/png": "[encoded data removed]",
            "text/plain": [
              "plot without title"
            ]
          },
          "metadata": {
            "tags": [],
            "image/png": {
              "width": 420,
              "height": 420
            },
            "text/plain": {
              "width": 420,
              "height": 420
            }
          }
        }
      ]
    },
    {
      "cell_type": "markdown",
      "metadata": {
        "id": "nZfT7h4c0VL4",
        "colab_type": "text"
      },
      "source": [
        "# Power and Sensitivity Analyses"
      ]
    },
    {
      "cell_type": "markdown",
      "metadata": {
        "id": "h4DvAgWc18F6",
        "colab_type": "text"
      },
      "source": [
        "The \"retrodesign\" package from [R CRAN](https://cran.r-project.org/web/packages/retrodesign/index.html) implements the calculation of Type S and Type M errors as advised by [Gelman and Carlin, 2014](https://cran.r-project.org/web/packages/retrodesign/vignettes/Intro_To_retrodesign.html)."
      ]
    },
    {
      "cell_type": "code",
      "metadata": {
        "id": "ZaFM0P6dqnK8",
        "colab_type": "code",
        "outputId": "00b71097-8dd9-49d5-e527-03f20df9b623",
        "colab": {
          "base_uri": "https://localhost:8080/",
          "height": 69
        }
      },
      "source": [
        "# Type S and Type M Error Analysis\n",
        "install.packages(\"retrodesign\")\n",
        "library(retrodesign)\n"
      ],
      "execution_count": 40,
      "outputs": [
        {
          "output_type": "stream",
          "text": [
            "Installing package into ‘/usr/local/lib/R/site-library’\n",
            "(as ‘lib’ is unspecified)\n",
            "\n"
          ],
          "name": "stderr"
        }
      ]
    },
    {
      "cell_type": "markdown",
      "metadata": {
        "id": "lR34ivlZ2gEs",
        "colab_type": "text"
      },
      "source": [
        "Compute Type S and Type M errors for effect sizes ranging from .20 to 1.0. SE from the post-hoc analyses above is around 0.06."
      ]
    },
    {
      "cell_type": "markdown",
      "metadata": {
        "id": "2BB77j-TMA78",
        "colab_type": "text"
      },
      "source": [
        ""
      ]
    },
    {
      "cell_type": "code",
      "metadata": {
        "id": "nEYDxCL6qtnj",
        "colab_type": "code",
        "outputId": "d5ca0694-ec25-42a9-88d2-373f91a78c5f",
        "colab": {
          "base_uri": "https://localhost:8080/",
          "height": 181
        }
      },
      "source": [
        "errors <- retro_design(list(.20,.30,.40,.50, .60),0.20)\n",
        "\n",
        "errors"
      ],
      "execution_count": 41,
      "outputs": [
        {
          "output_type": "display_data",
          "data": {
            "text/plain": [
              "  effect_size power     type_s       type_m  \n",
              "1 0.2         0.170075  0.009045272  2.490928\n",
              "2 0.3         0.3230412 0.0008361901 1.741059\n",
              "3 0.4         0.5160053 7.263595e-05 1.386265\n",
              "4 0.5         0.705418  5.810273e-06 1.195521\n",
              "5 0.6         0.8508388 4.143338e-07 1.091004"
            ],
            "text/latex": "A data.frame: 5 × 4\n\\begin{tabular}{llll}\n effect\\_size & power & type\\_s & type\\_m\\\\\n <list> & <list> & <list> & <list>\\\\\n\\hline\n\t 0.2 & 0.170075 & 0.009045272 & 2.490928\\\\\n\t 0.3 & 0.3230412 & 0.0008361901 & 1.741059\\\\\n\t 0.4 & 0.5160053 & 7.263595e-05 & 1.386265\\\\\n\t 0.5 & 0.705418 & 5.810273e-06 & 1.195521\\\\\n\t 0.6 & 0.8508388 & 4.143338e-07 & 1.091004\\\\\n\\end{tabular}\n",
            "text/markdown": "\nA data.frame: 5 × 4\n\n| effect_size &lt;list&gt; | power &lt;list&gt; | type_s &lt;list&gt; | type_m &lt;list&gt; |\n|---|---|---|---|\n| 0.2 | 0.170075 | 0.009045272 | 2.490928 |\n| 0.3 | 0.3230412 | 0.0008361901 | 1.741059 |\n| 0.4 | 0.5160053 | 7.263595e-05 | 1.386265 |\n| 0.5 | 0.705418 | 5.810273e-06 | 1.195521 |\n| 0.6 | 0.8508388 | 4.143338e-07 | 1.091004 |\n\n",
            "text/html": [
              "<table>\n",
              "<caption>A data.frame: 5 × 4</caption>\n",
              "<thead>\n",
              "\t<tr><th scope=col>effect_size</th><th scope=col>power</th><th scope=col>type_s</th><th scope=col>type_m</th></tr>\n",
              "\t<tr><th scope=col>&lt;list&gt;</th><th scope=col>&lt;list&gt;</th><th scope=col>&lt;list&gt;</th><th scope=col>&lt;list&gt;</th></tr>\n",
              "</thead>\n",
              "<tbody>\n",
              "\t<tr><td>0.2</td><td>0.170075</td><td>0.009045272</td><td>2.490928</td></tr>\n",
              "\t<tr><td>0.3</td><td>0.3230412</td><td>0.0008361901</td><td>1.741059</td></tr>\n",
              "\t<tr><td>0.4</td><td>0.5160053</td><td>7.263595e-05</td><td>1.386265</td></tr>\n",
              "\t<tr><td>0.5</td><td>0.705418</td><td>5.810273e-06</td><td>1.195521</td></tr>\n",
              "\t<tr><td>0.6</td><td>0.8508388</td><td>4.143338e-07</td><td>1.091004</td></tr>\n",
              "</tbody>\n",
              "</table>\n"
            ]
          },
          "metadata": {
            "tags": []
          }
        }
      ]
    },
    {
      "cell_type": "code",
      "metadata": {
        "id": "F0O1xHYIMIw_",
        "colab_type": "code",
        "colab": {}
      },
      "source": [
        ""
      ],
      "execution_count": 0,
      "outputs": []
    }
  ]
}